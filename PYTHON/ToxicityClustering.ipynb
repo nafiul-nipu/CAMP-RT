{
 "cells": [
  {
   "cell_type": "code",
   "execution_count": 1,
   "metadata": {},
   "outputs": [
    {
     "name": "stdout",
     "output_type": "stream",
     "text": [
      "WARNING:tensorflow:From /media/andrew/DATA/git_repos/CAMP-RT/PYTHON/preprocessing.py:11: The name tf.set_random_seed is deprecated. Please use tf.compat.v1.set_random_seed instead.\n",
      "\n"
     ]
    },
    {
     "name": "stderr",
     "output_type": "stream",
     "text": [
      "Using TensorFlow backend.\n"
     ]
    }
   ],
   "source": [
    "from numpy.random import seed\n",
    "seed(1)\n",
    "import numpy as np\n",
    "import pandas as pd\n",
    "import matplotlib.pyplot as plt\n",
    "from analysis import *\n",
    "from collections import namedtuple\n",
    "import Metrics\n",
    "from PatientSet import PatientSet\n",
    "from Constants import Constants\n",
    "from dependencies.Boruta import BorutaPy\n",
    "from Clustering import *\n",
    "import re\n",
    "import copy\n",
    "\n",
    "#sklearn dependencies\n",
    "from sklearn.preprocessing import MinMaxScaler\n",
    "from sklearn.metrics import roc_auc_score, adjusted_rand_score\n",
    "from sklearn.ensemble import ExtraTreesClassifier, RandomForestClassifier\n",
    "from sklearn.utils import resample\n",
    "from sklearn.cluster import FeatureAgglomeration\n",
    "\n",
    "#we get like a million deprication errors for some reason with the external libraries\n",
    "import warnings\n",
    "warnings.filterwarnings(\"ignore\", category=DeprecationWarning)"
   ]
  },
  {
   "cell_type": "code",
   "execution_count": 2,
   "metadata": {
    "scrolled": true
   },
   "outputs": [
    {
     "name": "stderr",
     "output_type": "stream",
     "text": [
      "/media/andrew/DATA/git_repos/CAMP-RT/PYTHON/Patient.py:360: RuntimeWarning: invalid value encountered in true_divide\n",
      "  mean_tumor_distances /= tumor_volume\n",
      "/media/andrew/DATA/git_repos/CAMP-RT/PYTHON/Patient.py:361: RuntimeWarning: invalid value encountered in true_divide\n",
      "  tumor_position /= tumor_volume\n"
     ]
    },
    {
     "name": "stdout",
     "output_type": "stream",
     "text": [
      "error reading tumor volume for  10091\n",
      "error reading tumor volume for  10148\n",
      "WARNING:tensorflow:From /home/evl/andrew/anaconda3/lib/python3.7/site-packages/keras/backend/tensorflow_backend.py:74: The name tf.get_default_graph is deprecated. Please use tf.compat.v1.get_default_graph instead.\n",
      "\n",
      "WARNING:tensorflow:From /home/evl/andrew/anaconda3/lib/python3.7/site-packages/keras/backend/tensorflow_backend.py:517: The name tf.placeholder is deprecated. Please use tf.compat.v1.placeholder instead.\n",
      "\n",
      "WARNING:tensorflow:From /home/evl/andrew/anaconda3/lib/python3.7/site-packages/keras/backend/tensorflow_backend.py:133: The name tf.placeholder_with_default is deprecated. Please use tf.compat.v1.placeholder_with_default instead.\n",
      "\n",
      "WARNING:tensorflow:From /home/evl/andrew/anaconda3/lib/python3.7/site-packages/keras/backend/tensorflow_backend.py:4115: The name tf.random_normal is deprecated. Please use tf.random.normal instead.\n",
      "\n",
      "WARNING:tensorflow:From /home/evl/andrew/anaconda3/lib/python3.7/site-packages/keras/optimizers.py:790: The name tf.train.Optimizer is deprecated. Please use tf.compat.v1.train.Optimizer instead.\n",
      "\n",
      "\n",
      "patient data loaded...\n",
      "\n"
     ]
    }
   ],
   "source": [
    "#load in the patientset object that has all the patient info\n",
    "db = PatientSet()\n",
    "\n",
    "#add a bunch of features to the object that we'll want to try\n",
    "#so we can use the db.to_dataframe function to get them all in a nice dataframe with one-hot encoding and labels automatically\n",
    "db.t_volumes = np.array([np.sum([g.volume for g in gtvs]) for gtvs in db.gtvs]).reshape(-1,1)\n",
    "db.tsimdoses = tsim_prediction(db)\n",
    "db.bilateral = db.lateralities == 'B'\n",
    "db.total_volumes = db.volumes.sum(axis = 1)\n",
    "db.toxicity = db.feeding_tubes + db.aspiration > 0\n",
    "db.xerostima = db.feeding_tubes + db.aspiration > 1"
   ]
  },
  {
   "cell_type": "code",
   "execution_count": 68,
   "metadata": {},
   "outputs": [],
   "source": [
    "#parameters for the experiments\n",
    "toxicities_to_test = ['toxicity']\n",
    "\n",
    "#features to test the feature selection on.  should be fields in the patientset we have\n",
    "#we don't cluster on these\n",
    "unclusterable_features = ['t_volumes', 'bilateral', 'total_volumes']\n",
    "#we cluster on these (each individually) if feature_clustering is defined,\n",
    "clusterable_features =['tumor_distances', 'volumes','tsimdoses']\n",
    "\n",
    "#features specifically for feature selection vs actually using.  Should either be\n",
    "#some combo of actual and predicted dose for this\n",
    "train_features = [] #['doses']\n",
    "test_features = [] #['tsimdoses']\n",
    "\n",
    "#number of times to resample and doing feature selection\n",
    "#if n = 1, just use the first result\n",
    "n_samples = 500\n",
    "df_rescale = Metrics.normalize\n",
    "\n",
    "#for now just constrain it to one cluster\n",
    "n_clusters = 2\n",
    "\n",
    "#number of cpus to use when running the feature selection\n",
    "n_jobs = 8\n",
    "\n",
    "#make this none if you don't want to cluster the features\n",
    "#otherwise give a number of clusters to group them, \n",
    "#should be <33 as of writting this as that is the total included number of organs\n",
    "feature_clustering = None\n",
    "\n",
    "#where to save results, put None if you don't want to save\n",
    "save_root = 'data/clustering_results/'\n"
   ]
  },
  {
   "cell_type": "code",
   "execution_count": null,
   "metadata": {
    "scrolled": true
   },
   "outputs": [
    {
     "name": "stdout",
     "output_type": "stream",
     "text": [
      "The autoreload extension is already loaded. To reload it, use:\n",
      "  %reload_ext autoreload\n",
      "toxicity\n"
     ]
    }
   ],
   "source": [
    "%load_ext autoreload\n",
    "%autoreload 2\n",
    "from Clustering import *\n",
    "#our actual experiment, try to find correlations using the boruta method and such\n",
    "feature_list = []\n",
    "for tox_name in toxicities_to_test:\n",
    "    print(tox_name)\n",
    "    toxicity = getattr(db, tox_name) > 0\n",
    "    \n",
    "    #remove eyeball stuff from the candidates since those are missing in some patients\n",
    "    #and it messe100s up the feature selection due to that noise\n",
    "    organs = copy.copy(Constants.organ_list)\n",
    "    for o in Constants.organ_list:\n",
    "        if re.search('Eyeball', o) is not None:\n",
    "            organs.remove(o)\n",
    "    \n",
    "    train, test = get_train_test_datasets(db, unclusterable_features, \n",
    "                                          clusterable_features, \n",
    "                                          train_features, \n",
    "                                          test_features,\n",
    "                                         organs,\n",
    "                                         feature_clustering)\n",
    "    \n",
    "    if df_rescale is not None:\n",
    "        train = df_rescale(train)\n",
    "        test = df_rescale(test)\n",
    "    selection_clusterer = BestClusterer()\n",
    "#     selection_clusterer  = FClusterer(n_clusters, dist_func = l2)\n",
    "    feature_selector = FeatureClusterSelector(\n",
    "        n_samples = n_samples,\n",
    "        model = selection_clusterer,\n",
    "        n_jobs = n_jobs).fit(train, toxicity)\n",
    "    to_use = feature_selector.transform(test)\n",
    "    labels = feature_selector.predict_labels(train, toxicity)\n",
    "    print()\n",
    "    print()\n",
    "    print(get_contingency_table(labels, toxicity))\n",
    "    print(fisher_exact_test(labels, toxicity))\n",
    "    print('number of features: ', to_use.shape[1])\n",
    "\n",
    "    #we're going to try a bunch of different clusterings and look at the best result\n",
    "    clustering = get_optimal_clustering(to_use.values, \n",
    "                                        toxicity,\n",
    "                                        metric = cluster_metric,\n",
    "                                       min_clusters = n_clusters,\n",
    "                                       max_clusters = n_clusters)\n",
    "    print(clustering[1].method)\n",
    "    print(get_contingency_table(clustering[0], toxicity))\n",
    "    print('correlation: ', clustering[1].correlation)\n",
    "    print('rand score: ', clustering[1].rand_score,'\\n')\n",
    "\n",
    "    to_use['cluster_labels'] = clustering[0]\n",
    "#     print(best_features.columns)\n",
    "    to_use.index.rename('Dummy.ID', inplace = True)\n",
    "    feature_list.append(to_use)\n",
    "    if save_root is not None:\n",
    "        n_best_clusters = len(set(clustering[0]))\n",
    "        to_use.to_csv(save_root\n",
    "                     + 'boruta_features_k='\n",
    "                     + str(n_best_clusters)\n",
    "                     + '_p=' + '{:.3e}'.format(clustering[1].correlation)\n",
    "                     + '_toxicity=' + tox_name + '.csv')"
   ]
  },
  {
   "cell_type": "code",
   "execution_count": null,
   "metadata": {},
   "outputs": [],
   "source": [
    "lambda x: x #%load_ext autoreload\n",
    "%autoreload 2\n",
    "from Clustering import *\n",
    "\n",
    "#get all the features found before and put them together\n",
    "combined_df = feature_list[0]\n",
    "if len(feature_list) > 1:\n",
    "    for i in range(1, len(feature_list)):\n",
    "        df2 = feature_list[i]\n",
    "        to_drop = list(set(combined_df.columns).intersection(set(df2.columns)))\n",
    "        if len(to_drop) == df2.shape[1]:\n",
    "            continue\n",
    "        df2 = df2.drop(to_drop, axis = 1)\n",
    "        combined_df = pd.merge(combined_df, df2, on = 'Dummy.ID')\n",
    "combined_df.drop('cluster_labels', axis = 1, inplace = True)\n",
    "print(combined_df.columns)\n",
    "combined_clusters = get_optimal_clustering(combined_df.values, db.toxicity,\n",
    "                                    metric = cluster_metric,\n",
    "                                    min_clusters = n_clusters,\n",
    "                                    max_clusters = n_clusters)\n",
    "print(combined_clusters[1].method)\n",
    "print(get_contingency_table(combined_clusters[0], toxicity))\n",
    "print('correlation: ', combined_clusters[1].correlation)\n",
    "print('rand score: ', combined_clusters[1].rand_score, '\\n')\n",
    "combined_df['cluster_labels'] = combined_clusters[0]"
   ]
  },
  {
   "cell_type": "code",
   "execution_count": null,
   "metadata": {},
   "outputs": [],
   "source": [
    "if save_root is not None:\n",
    "    combined_df.to_csv(save_root\n",
    "                 + 'metaClusteringBootstrapped500MinmaxBest.csv')"
   ]
  },
  {
   "cell_type": "code",
   "execution_count": null,
   "metadata": {},
   "outputs": [],
   "source": []
  }
 ],
 "metadata": {
  "kernelspec": {
   "display_name": "Python 3",
   "language": "python",
   "name": "python3"
  },
  "language_info": {
   "codemirror_mode": {
    "name": "ipython",
    "version": 3
   },
   "file_extension": ".py",
   "mimetype": "text/x-python",
   "name": "python",
   "nbconvert_exporter": "python",
   "pygments_lexer": "ipython3",
   "version": "3.7.3"
  }
 },
 "nbformat": 4,
 "nbformat_minor": 4
}
